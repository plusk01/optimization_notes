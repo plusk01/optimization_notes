{
 "cells": [
  {
   "cell_type": "markdown",
   "metadata": {},
   "source": [
    "# Sequential Convex Programming\n",
    "\n",
    "Sequential Convex Programming (SCP) is a local optimization method for nonconvex problems [1]. It is a rather large umbrella term which seems to include any sort of iterative algorithm which attempts to solve a nonconvex problem by "
   ]
  },
  {
   "cell_type": "markdown",
   "metadata": {},
   "source": [
    "## References\n",
    "\n",
    "[1] [J. Duchi S. Boyd, *EE364b SCP Notes*, 2018](https://web.stanford.edu/class/ee364b/lectures/seq_notes.pdf)\n",
    "\n",
    "[2] [J. Duchi, S. Boyd, *EE364b SCP Slides*](https://web.stanford.edu/class/ee364b/lectures/seq_slides.pdf)\n",
    "\n",
    "[3] [J. Mattingley, *SCP Robot Arm MATLAB Example*, 2008](https://web.stanford.edu/class/ee364b/lectures/seq_matlab/robot.m)\n",
    "\n",
    "[4] [Q. Dinh, M. Diehl, *An Application of Sequential Convex Programming to Time Optimal Trajectory Planning for a Car Motion*, CDC'09](https://ieeexplore.ieee.org/stamp/stamp.jsp?tp=&arnumber=5399823)\n",
    "\n",
    "[5] [F. Augugliaro, A.P. Schoellig, R. D'Andrea, *Generation of collision-free trajectories for a quadrocopter fleet: A sequential convex programming approach*, IROS'12](https://www.flyingmachinearena.ethz.ch/wp-content/publications/2012/AugugliaroIROS2012.pdf)\n",
    "\n",
    "[6] [M. Szmuk, C. Pascucci, D. Dueri, B. Acikmese, *Convexification and Real-Time On-Board Optimization for Agile uad-Rotor Maneuvering and Obstacle Avoidance*, IROS'17](https://ieeexplore.ieee.org/stamp/stamp.jsp?tp=&arnumber=8206363)\n",
    "\n",
    "[7] [M. Szmuk, C. Pascucci, B. Acikmese, *Real-Time Quad-Rotor Path Planning for Mobile Obstacle Avoidance Using Convex Optimization*, IROS'18](https://ieeexplore.ieee.org/stamp/stamp.jsp?tp=&arnumber=8594351)\n",
    "\n",
    "[8] [Y. Mao, M. Szmuk, B. Acikmese, *Successive Convexification of Non-Convex Optimal Control Problems and Its Convergence Properties*, CDC'16](https://arxiv.org/abs/1608.05133.pdf)\n",
    "\n",
    "[9] [Y. Mao, M. Szmuk, X. Xu, B. Acikmese, *Successive Convexification: A Superlinearly Convergent Algorithm for Non-convex Optimal Control Problems*](https://arxiv.org/abs/1804.06539.pdf)"
   ]
  }
 ],
 "metadata": {
  "kernelspec": {
   "display_name": "Python 3",
   "language": "python",
   "name": "python3"
  },
  "language_info": {
   "codemirror_mode": {
    "name": "ipython",
    "version": 3
   },
   "file_extension": ".py",
   "mimetype": "text/x-python",
   "name": "python",
   "nbconvert_exporter": "python",
   "pygments_lexer": "ipython3",
   "version": "3.6.9"
  }
 },
 "nbformat": 4,
 "nbformat_minor": 4
}
