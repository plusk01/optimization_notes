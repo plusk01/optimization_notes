{
 "cells": [
  {
   "cell_type": "markdown",
   "metadata": {},
   "source": [
    "# Newton's Method\n",
    "\n",
    "An iterative method for finding the minimum of a twice differentiable function, $f$. Using first and second-order information (i.e., the gradient and Hessian of $f$) each iteration moves closer to the minimum $f(x^*)$ with the iterate\n",
    "$$\n",
    "x_{k+1} := x_k - h_k \\nabla^2 f(x_k)^{-1} \\nabla f(x_k),\n",
    "$$\n",
    "where $h_k$ is the step size of the $k^\\text{th}$ iteration. This step size is typically chosen via backtracking line search.\n",
    "\n",
    "Note that Newton's Method (AKA the Newton-Raphson Method) is originally a root-finding algorithm, using first-order information to find the values of $x$ such that $f(x) = 0$. In this sense, Newton's Method in optimization can be seen as finding the zeros of the gradient of a differentiable function $f$, which is a sufficient and necessary condition for being a global optimum for convex $f$.\n",
    "\n",
    "#### Resources\n",
    "- https://web.stanford.edu/class/ee364a/lectures/unconstrained.pdf\n",
    "- https://see.stanford.edu/materials/lsocoee364a/hw7sol.pdf\n",
    "- https://gist.github.com/jiahao/1561144"
   ]
  },
  {
   "cell_type": "code",
   "execution_count": 1,
   "metadata": {},
   "outputs": [],
   "source": [
    "import numpy as np\n",
    "import matplotlib.pyplot as plt\n",
    "%matplotlib inline"
   ]
  },
  {
   "cell_type": "markdown",
   "metadata": {},
   "source": [
    "## Backtracking Line Search\n",
    "\n",
    "Pseudocode (BV Algorithm 9.2)\n",
    "\n",
    "---\n",
    "**given** a function $f$, its gradient $\\nabla f$, the current feasible iterate $x\\in\\mathbf{dom}f$, and parameters $\\alpha\\in(0,0.5)$, $\\beta\\in(0,1)$\n",
    "\n",
    "$h := 1$\n",
    "\n",
    "**while** $f(x - h\\nabla f) > f(x) - \\alpha h \\nabla f(x)^\\top \\nabla f(x)$, &nbsp;&nbsp;&nbsp;&nbsp; $h := \\beta h$\n",
    "\n",
    "---\n",
    "\n",
    "Consider this note on practical implementation by Boyd (BV, p. 465):\n",
    "\n",
    "> By our convention that $f$ is infinite outside its domain, the inequality implies that $x - h\\nabla fx(x)$. In a practical implementation, we first multiply $h$ by $\\beta$ until $x - h\\nabla fx(x)$; then we start to cehck whether the inequality $f(x - h\\nabla f) > f(x) - \\alpha h \\nabla f(x)^\\top \\nabla f(x)$ holds."
   ]
  },
  {
   "cell_type": "code",
   "execution_count": 2,
   "metadata": {},
   "outputs": [],
   "source": [
    "def linesearch(x, f, gradf, v, alpha=0.05, beta=0.5):\n",
    "    \"\"\"Backtracking Line Search\n",
    "    x: current point (nx1)\n",
    "    f: function (nx1 -> 1)\n",
    "    gradf: gradient of function (nx1 -> nx1) (i.e., tranpose of Jacobian of f)\n",
    "    v: step direction (i.e., -grad or -hess\\grad)\n",
    "    alpha, beta: backtracking parameters\n",
    "    \"\"\"\n",
    "    \n",
    "    # don't run forever! Boyd says quality of line search isn't super important in practice anyways\n",
    "    MAXITERS = 1000\n",
    "    \n",
    "    # initialize step size\n",
    "    h = 1\n",
    "    \n",
    "    # ensure we are in dom f\n",
    "    for _ in range(MAXITERS):\n",
    "        # move along the line given the current step size\n",
    "        step = x + h * v\n",
    "        \n",
    "        # calculate value of function\n",
    "        fstep = f(step)\n",
    "        \n",
    "        if np.isnan(fstep) or np.isinf(fstep):\n",
    "            h = beta * h\n",
    "        else:\n",
    "            break\n",
    "       \n",
    "    fprime = gradf(x).T @ v\n",
    "    \n",
    "    for _ in range(MAXITERS):\n",
    "        # move along the line given the current step size\n",
    "        step = x + h * v\n",
    "               \n",
    "        # calculate the convexity constraint inequality\n",
    "        lhs = f(step)\n",
    "        rhs = f(x) + alpha * h * fprime\n",
    "        \n",
    "        # inequality check\n",
    "        if lhs > rhs:\n",
    "            h = beta * h # make step smaller\n",
    "        else:\n",
    "            break       \n",
    "    \n",
    "    return h"
   ]
  },
  {
   "cell_type": "markdown",
   "metadata": {},
   "source": [
    "## Implementation\n",
    "\n",
    "\n",
    "In pseudocode, this algorithm can be written (BV Algorithm 9.3)\n",
    "\n",
    "---\n",
    "**given** a starting point $x\\in\\mathbf{dom}f$ and a tolerance $\\epsilon > 0$.\n",
    "\n",
    "**repeat**\n",
    "\n",
    "1. *Compute the Newton decrement.* $\\lambda^2 := \\nabla f(x)^\\top \\nabla^2 f(x)^{-1} \\nabla f(x)$\n",
    "2. *Stopping criterion.* **quit** if $\\lambda^2/2 \\le \\epsilon$.\n",
    "3. *Line search.* Choose step size $h_k$ via line search\n",
    "4. *Update.* $x := x - h\\nabla^2 f(x)^{-1} \\nabla f(x)$\n",
    "\n",
    "---"
   ]
  },
  {
   "cell_type": "code",
   "execution_count": 3,
   "metadata": {},
   "outputs": [],
   "source": [
    "def newton(x0, f, gradf, hessf,\n",
    "            alpha=0.05, beta=0.5,\n",
    "            MAXITERS=1000, NDTOL=1e-3, **kwargs):\n",
    "    \"\"\"Gradient Descent\n",
    "    Move along the cost surface in the steepest descent direction until the minimum is found.\n",
    "    x0: initialization point (nx1)\n",
    "    f: function (nx1 -> 1)\n",
    "    gradf: gradient of function (nx1 -> nx1) (i.e., tranpose of Jacobian of f)\n",
    "    hessf: gradient of gradient of function (nx1 -> nxn)\n",
    "    alpha, beta: backtracking line search params\n",
    "    MAXITERS: maximum number of iterations for gradient descent\n",
    "    NDTOL: termination criterion on newton decrement\n",
    "    \"\"\"\n",
    "        \n",
    "    # initialize\n",
    "    x = x0\n",
    "    vals = []\n",
    "    steps = []\n",
    "    \n",
    "    for _ in range(MAXITERS):\n",
    "        \n",
    "        # evaluate function at current point\n",
    "        vals.append(f(x))\n",
    "    \n",
    "        # calculate step direction\n",
    "        v = -np.linalg.solve(hessf(x),gradf(x))\n",
    "    \n",
    "        # check termination criterion on Newton decrement\n",
    "        lam2 = gradf(x).T @ v\n",
    "        if np.abs(lam2) < NDTOL:\n",
    "            break\n",
    "    \n",
    "        # find the best step size for this step\n",
    "        h = linesearch(x, f, gradf, v, alpha, beta)\n",
    "    \n",
    "        # iterate\n",
    "        x = x + h * v\n",
    "        \n",
    "        # save this step for later\n",
    "        steps.append(h)\n",
    "        \n",
    "    return (vals, steps, x, f(x))"
   ]
  },
  {
   "cell_type": "markdown",
   "metadata": {},
   "source": [
    "## Example\n",
    "\n",
    "Consider the unconstrained problem\n",
    "$$\n",
    "\\min f(x) = - \\sum_{i=1}^m \\log(1 - a_i^\\top x) - \\sum_{i=1}^n \\log(1 - x_i^2)\n",
    "$$\n",
    "with $x\\in\\mathbb{R}^n$. Clearly, $\\mathbf{dom}f = \\{ x | a_i^\\top x \\le 1, |x_i| < 1 \\}$.\n",
    "\n",
    "We will generate a random problem with the following parameters"
   ]
  },
  {
   "cell_type": "code",
   "execution_count": 4,
   "metadata": {},
   "outputs": [],
   "source": [
    "n = 1000\n",
    "m = 2000\n",
    "A = np.random.default_rng(seed=0).normal(0, 1, (m,n))"
   ]
  },
  {
   "cell_type": "code",
   "execution_count": 5,
   "metadata": {},
   "outputs": [],
   "source": [
    "def f(x):\n",
    "    return -np.sum(np.log(1 - A@x)) - np.sum(np.log(1-x**2))"
   ]
  },
  {
   "cell_type": "markdown",
   "metadata": {},
   "source": [
    "The gradient of this function is\n",
    "$$\n",
    "\\begin{align}\n",
    "\\nabla f(x) &= \\sum_{i=1}^m(1-a_i^\\top x)^{-1} a_i\n",
    "+ 2\\begin{bmatrix}(1-x_1^2)^{-1}x_1 & \\cdots & (1-x_n^2)^{-1}x_n\\end{bmatrix}^\\top \\\\\n",
    "&= A^\\top\n",
    "\\begin{bmatrix}(1-a_1^\\top x)^{-1}\\\\\\vdots\\\\(1-a_m^\\top x)^{-1}\\end{bmatrix}\n",
    "+ 2\\,\\text{diag}(x)\n",
    "\\begin{bmatrix}(1-x_1^2)^{-1}\\\\\\vdots\\\\(1-x_n^2)^{-1}\\end{bmatrix} \\\\\n",
    "\\end{align}\n",
    "$$\n",
    "\n",
    "The Hessian of $f$ is\n",
    "$$\n",
    "\\begin{align}\n",
    "\\nabla^2 f(x) &= \\sum_{i=1}^m(1-a_i^\\top x)^{-2} a_i a_i^\\top + 2\\,\\text{diag}\n",
    "\\begin{bmatrix}(1-x_1^2)^{-1}+2(1-x_1^2)^{-2}x_1^2\\\\\\vdots\\\\(1-x_n^2)^{-1}+2(1-x_n^2)^{-2}x_n^2\\end{bmatrix} \\\\\n",
    "&= A^\\top\\text{diag}\\begin{bmatrix}(1-a_1^\\top x)^{-2}\\\\\\vdots\\\\(1-a_m^\\top x)^{-2}\\end{bmatrix}A\n",
    "+ 2\\,\\text{diag}\n",
    "\\begin{bmatrix}(1-x_1^2)^{-1}+2(1-x_1^2)^{-2}x_1^2\\\\\\vdots\\\\(1-x_n^2)^{-1}+2(1-x_n^2)^{-2}x_n^2\\end{bmatrix}\n",
    "\\end{align}\n",
    "$$"
   ]
  },
  {
   "cell_type": "code",
   "execution_count": 6,
   "metadata": {},
   "outputs": [],
   "source": [
    "def gradf(x):\n",
    "    d = (1 - A@x)**(-1)\n",
    "    e = (1 - x**2)**(-1)\n",
    "    return A.T @ d + 2*np.diag(x) @ e\n",
    "\n",
    "def hessf(x):\n",
    "    d = (1 - A@x)**(-2)\n",
    "    e = (1 - x**2)**(-1) + 2*(1 - x**2)**(-2) * x**2\n",
    "    return A.T @ np.diag(d) @ A + 2 * np.diag(e)"
   ]
  },
  {
   "cell_type": "markdown",
   "metadata": {},
   "source": [
    "We can check this anayltic gradient with `scipy`:"
   ]
  },
  {
   "cell_type": "code",
   "execution_count": 7,
   "metadata": {
    "scrolled": true
   },
   "outputs": [
    {
     "data": {
      "text/plain": [
       "0.00047191494985289326"
      ]
     },
     "execution_count": 7,
     "metadata": {},
     "output_type": "execute_result"
    }
   ],
   "source": [
    "import scipy.optimize\n",
    "\n",
    "x0 = np.zeros((n,))\n",
    "scipy.optimize.check_grad(f, gradf, x0)\n",
    "\n",
    "# could check hessian with autograd"
   ]
  },
  {
   "cell_type": "code",
   "execution_count": 8,
   "metadata": {},
   "outputs": [
    {
     "name": "stderr",
     "output_type": "stream",
     "text": [
      "/home/plusk01/.local/lib/python3.6/site-packages/ipykernel_launcher.py:2: RuntimeWarning: invalid value encountered in log\n",
      "  \n"
     ]
    }
   ],
   "source": [
    "vals, steps, xopt, fopt = newton(x0, f, gradf, hessf)"
   ]
  },
  {
   "cell_type": "code",
   "execution_count": 9,
   "metadata": {},
   "outputs": [
    {
     "data": {
      "text/plain": [
       "Text(0, 0.5, '$f(x_k) - f(x^*)$')"
      ]
     },
     "execution_count": 9,
     "metadata": {},
     "output_type": "execute_result"
    },
    {
     "data": {
      "image/png": "[encoded data removed]",
      "text/plain": [
       "<Figure size 432x288 with 1 Axes>"
      ]
     },
     "metadata": {
      "needs_background": "light"
     },
     "output_type": "display_data"
    }
   ],
   "source": [
    "plt.semilogy(range(len(vals)), vals - fopt)\n",
    "plt.grid()\n",
    "plt.xlabel('Iteration')\n",
    "plt.ylabel('$f(x_k) - f(x^*)$')"
   ]
  },
  {
   "cell_type": "code",
   "execution_count": 10,
   "metadata": {},
   "outputs": [
    {
     "data": {
      "text/plain": [
       "Text(0, 0.5, '$h_k$')"
      ]
     },
     "execution_count": 10,
     "metadata": {},
     "output_type": "execute_result"
    },
    {
     "data": {
      "image/png": "[encoded data removed]",
      "text/plain": [
       "<Figure size 432x288 with 1 Axes>"
      ]
     },
     "metadata": {
      "needs_background": "light"
     },
     "output_type": "display_data"
    }
   ],
   "source": [
    "plt.plot(range(len(steps)), steps, ':')\n",
    "plt.plot(range(len(steps)), steps, 'o')\n",
    "plt.grid()\n",
    "plt.xlabel('Iteration')\n",
    "plt.ylabel('$h_k$')"
   ]
  },
  {
   "cell_type": "code",
   "execution_count": 11,
   "metadata": {},
   "outputs": [
    {
     "name": "stderr",
     "output_type": "stream",
     "text": [
      "/home/plusk01/.local/lib/python3.6/site-packages/ipykernel_launcher.py:2: RuntimeWarning: invalid value encountered in log\n",
      "  \n",
      "/home/plusk01/.local/lib/python3.6/site-packages/ipykernel_launcher.py:2: RuntimeWarning: invalid value encountered in log\n",
      "  \n",
      "/home/plusk01/.local/lib/python3.6/site-packages/ipykernel_launcher.py:2: RuntimeWarning: invalid value encountered in log\n",
      "  \n",
      "/home/plusk01/.local/lib/python3.6/site-packages/ipykernel_launcher.py:2: RuntimeWarning: invalid value encountered in log\n",
      "  \n",
      "/home/plusk01/.local/lib/python3.6/site-packages/ipykernel_launcher.py:2: RuntimeWarning: invalid value encountered in log\n",
      "  \n",
      "/home/plusk01/.local/lib/python3.6/site-packages/ipykernel_launcher.py:2: RuntimeWarning: invalid value encountered in log\n",
      "  \n",
      "/home/plusk01/.local/lib/python3.6/site-packages/ipykernel_launcher.py:2: RuntimeWarning: invalid value encountered in log\n",
      "  \n",
      "/home/plusk01/.local/lib/python3.6/site-packages/ipykernel_launcher.py:2: RuntimeWarning: invalid value encountered in log\n",
      "  \n",
      "/home/plusk01/.local/lib/python3.6/site-packages/ipykernel_launcher.py:2: RuntimeWarning: invalid value encountered in log\n",
      "  \n"
     ]
    },
    {
     "data": {
      "text/plain": [
       "Text(0, 0.5, '$f(x_k) - f(x^*)$')"
      ]
     },
     "execution_count": 11,
     "metadata": {},
     "output_type": "execute_result"
    },
    {
     "data": {
      "image/png": "[encoded data removed]",
      "text/plain": [
       "<Figure size 432x288 with 1 Axes>"
      ]
     },
     "metadata": {
      "needs_background": "light"
     },
     "output_type": "display_data"
    }
   ],
   "source": [
    "if 0:\n",
    "    alphas = [0.01, 0.05, 0.2]\n",
    "    betas = [0.3, 0.5, 0.7]\n",
    "    for alpha in alphas:\n",
    "        for beta in betas:\n",
    "            vals, steps, _, fopt = newton(x0, f, gradf, hessf, alpha, beta)\n",
    "\n",
    "            plt.semilogy(range(len(vals)), vals - fopt, label=\"α={}, β={}\".format(alpha, beta))\n",
    "\n",
    "    plt.grid()\n",
    "    plt.legend()\n",
    "    plt.xlabel('Iteration')\n",
    "    plt.ylabel('$f(x_k) - f(x^*)$')"
   ]
  }
 ],
 "metadata": {
  "kernelspec": {
   "display_name": "Python 3",
   "language": "python",
   "name": "python3"
  },
  "language_info": {
   "codemirror_mode": {
    "name": "ipython",
    "version": 3
   },
   "file_extension": ".py",
   "mimetype": "text/x-python",
   "name": "python",
   "nbconvert_exporter": "python",
   "pygments_lexer": "ipython3",
   "version": "3.6.9"
  }
 },
 "nbformat": 4,
 "nbformat_minor": 4
}
