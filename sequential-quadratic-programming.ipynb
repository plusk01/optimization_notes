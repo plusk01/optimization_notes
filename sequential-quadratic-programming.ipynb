{
 "cells": [
  {
   "cell_type": "markdown",
   "metadata": {},
   "source": [
    "# Sequential Quadratic Programming\n",
    "\n",
    "Consider the following constrained nonlinear program (NLP)\n",
    "\n",
    "$$\n",
    "\\begin{aligned}\n",
    "& \\underset{x}{\\text{minimize}}\n",
    "& & f(x) \\\\\n",
    "& \\text{subject to}\n",
    "& & h(x) = 0 \\\\\n",
    "&&& g(x) \\le 0 \\\\\n",
    "\\end{aligned}\n",
    "$$\n",
    "\n",
    "Sequential quadratic programming (SQP) is an iterative method for solving such a constrained NLP originating from the 1970s [1]. It leverages the insight that quadratic programs (QP) are easy to solve. Hence, at each iteration, a QP subproblem is formulated with respect to the current iterate $x^k$ by\n",
    "\n",
    "- replacing the nonlinear objective $f(x)$ with its local quadratic approximation\n",
    "\n",
    "$$\n",
    "f(x) \\approx f(x^k) + \\nabla f(x^k)(x-x^k) + \\frac{1}{2}(x-x^k)^\\top \\mathcal{L}_{xx}(x^k) (x-x^k)\n",
    "$$\n",
    "\n",
    "- replacing non-affine constraint functions by their local affine approximations\n",
    "\n",
    "$$\n",
    "\\begin{align}\n",
    "h(x) &\\approx h(x^k) + \\nabla h(x^k) (x-x^k) \\\\\n",
    "g(x) &\\approx g(x^k) + \\nabla g(x^k) (x-x^k) \\\\\n",
    "\\end{align}\n",
    "$$\n",
    "\n",
    "where $\\mathcal{L}_{xx}(x^k)$ is the Hessian of the associated Lagrangian. Defining $d(x) := x-x^k$ leads to the following QP subproblem\n",
    "\n",
    "$$\n",
    "\\begin{aligned}\n",
    "& \\underset{x}{\\text{minimize}}\n",
    "& & \\nabla f(x^k)d + \\frac{1}{2}d^\\top \\mathcal{L}_{xx}(x^k) d \\\\\n",
    "& \\text{subject to}\n",
    "& & h(x^k) + \\nabla h(x^k) d = 0 \\\\\n",
    "&&& g(x^k) + \\nabla g(x^k) d \\le 0 \\\\\n",
    "\\end{aligned}\n",
    "$$\n",
    "\n",
    "Note how subproblems utilize Hessian information of the Lagrangian. This comes from trying to find critical points of the associated KKT system. This QP subproblem is often performed using Newton's method [3], but it can be done wit"
   ]
  },
  {
   "cell_type": "markdown",
   "metadata": {},
   "source": [
    "## References\n",
    "\n",
    "[1] [P.T. Boggs, J.W. Tolle, *Sequential Quadratic Programming*, Acta Numerica 1996](https://web.cse.ohio-state.edu/~parent.1/classes/788/Au10/OptimizationPapers/SQP/actaSqp.pdf)\n",
    "\n",
    "[2] [Wikipedia, *Sequential quadratic programming*, Accessed June 2020](https://en.wikipedia.org/wiki/Sequential_quadratic_programming)\n",
    "\n",
    "[3] [NWU Process Optimization Open Textbook: Sequential quadratic programming, Accessed June 2020](https://optimization.mccormick.northwestern.edu/index.php/Sequential_quadratic_programming)\n",
    "\n",
    "[4] [R.W. Hoppe, *Ch 4 Sequential Quadratic Programming*, 2006](https://www.math.uh.edu/~rohop/fall_06/Chapter4.pdf)"
   ]
  }
 ],
 "metadata": {
  "kernelspec": {
   "display_name": "Python 3",
   "language": "python",
   "name": "python3"
  },
  "language_info": {
   "codemirror_mode": {
    "name": "ipython",
    "version": 3
   },
   "file_extension": ".py",
   "mimetype": "text/x-python",
   "name": "python",
   "nbconvert_exporter": "python",
   "pygments_lexer": "ipython3",
   "version": "3.6.9"
  }
 },
 "nbformat": 4,
 "nbformat_minor": 4
}
