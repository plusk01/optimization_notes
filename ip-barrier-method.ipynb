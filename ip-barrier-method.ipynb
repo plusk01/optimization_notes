{
 "cells": [
  {
   "cell_type": "markdown",
   "metadata": {},
   "source": [
    "# Interior-Point: Barrier Method\n",
    "\n",
    "The following is an implementation of the *barrier method* flavor of the interior-point method. An alternative (better) approach is the primal-dual interior-point method.\n",
    "\n",
    "Consider the standard dual form of an LP:\n",
    "$$\n",
    "\\begin{aligned}\n",
    "& \\underset{y\\in\\mathbb{R}^n}{\\text{minimize}}\n",
    "& & b^\\top y \\\\\n",
    "& \\text{subject to}\n",
    "& & A^\\top y \\le c \\\\\n",
    "\\end{aligned}\n",
    "$$\n",
    "with $A=\\begin{bmatrix}a_1 & \\dots & a_m\\end{bmatrix}\\in\\mathbb{R}^{n\\times m}$ and $c\\in\\mathbb{R}^m$.\n",
    "\n",
    "The idea of the barrier method is to use an indicator function $I_Q$ which takes $\\infty$ outside of the feasible region $Q$ and $0$ within the feasible region. Of course, this indicator function is non-differentiable, so we use an approximation with a self-concordant barrier function, $F_Q$. Then, the problem becomes\n",
    "$$\n",
    "\\begin{aligned}\n",
    "& \\underset{y\\in\\mathbb{R}^n}{\\text{minimize}}\n",
    "& & f(y) = b^\\top y + \\mu F_Q(y),\n",
    "\\end{aligned}\n",
    "$$\n",
    "where $\\mu$ starts large and then decreases so that the original ogjective is dominate (i.e., after we are in the feasible region). This is known as a homotopy-type algorithm.\n",
    "\n",
    "Consider the barrier function $F_Q(y) = -\\sum_{i=1}^m \\log(c_i - a_i^\\top y)$. This constrained problem can then be rewritten as the unconstrained problem\n",
    "$$\n",
    "\\begin{aligned}\n",
    "& \\underset{y\\in\\mathbb{R}^n}{\\text{minimize}}\n",
    "& & \\frac{1}{\\mu} b^\\top y -\\sum_{i=1}^m \\log(c_i - a_i^\\top y)\n",
    "\\end{aligned}\n",
    "$$\n",
    "\n",
    "\n",
    "The gradient and Hessian of this new objective are:\n",
    "$$\n",
    "\\begin{align}\n",
    "\\nabla f(y) &= \\frac{1}{\\mu}b + \\sum_{i=1}^m(c_i-a_i^\\top y)^{-1} a_i\n",
    "= \\frac{1}{\\mu}b + A\n",
    "\\begin{bmatrix}(c_1-a_1^\\top x)^{-1}\\\\\\vdots\\\\(c_m-a_m^\\top y)^{-1}\\end{bmatrix} \\\\\n",
    "\\nabla^2 f(y) &= \\sum_{i=1}^m(c_i-a_i^\\top y)^{-2} a_i a_i^\\top\n",
    "= A\\,\\text{diag}\\begin{bmatrix}(c_1-a_1^\\top x)^{-2}\\\\\\vdots\\\\(c_m-a_m^\\top x)^{-2}\\end{bmatrix}A^\\top\n",
    "\\end{align}\n",
    "$$"
   ]
  },
  {
   "cell_type": "code",
   "execution_count": 1,
   "metadata": {},
   "outputs": [],
   "source": [
    "%%capture\n",
    "# Load Newton's method implementation from a previous notebook\n",
    "%run newtons-method.ipynb"
   ]
  },
  {
   "cell_type": "markdown",
   "metadata": {},
   "source": [
    "## Implementation"
   ]
  },
  {
   "cell_type": "code",
   "execution_count": 2,
   "metadata": {},
   "outputs": [],
   "source": [
    "def barrier(x0, c, nu, F_Q, Fp_Q, Fpp_Q, N=1000):\n",
    "    \"\"\"Barrier Method\n",
    "    x0: initial point, nx1 vector\n",
    "    c: linear objective <c,x>, nx1 vector\n",
    "    nu: complexity of barrier\n",
    "    F_Q: barrier function, i.e., f(x) = <c,x> + μF_Q(x)\n",
    "    Fp_Q: grad of barrier, nx1 -> nx1 (i.e., transpose of Jacobian)\n",
    "    Fpp_Q: Hess of barrier, nx1 -> nxn\n",
    "    N: number of steps\n",
    "    \"\"\"\n",
    "    \n",
    "    # problem dimensions\n",
    "    n = len(c)\n",
    "    \n",
    "    # barrier\n",
    "    M = 2 # Self-concordant with M=2\n",
    "    \n",
    "    # IP parameters\n",
    "    beta = 1/10\n",
    "    delta = 1.4/(1+10*np.sqrt(nu))\n",
    "    \n",
    "    # iterate history\n",
    "    mu = np.zeros((N,))\n",
    "    lam = np.zeros((N,))\n",
    "    x = np.zeros((N,n))\n",
    "    \n",
    "    # initialization\n",
    "    mu[0] = 1\n",
    "    x[0, :] = x0\n",
    "    \n",
    "    for k in range(N-1):\n",
    "        \n",
    "        # gradient and Hessian of entire objective (we assume original objective is linear)\n",
    "        fp = 1/mu[k] * c + Fp_Q(x[k, :])\n",
    "        fpp = Fpp_Q(x[k, :])\n",
    "                \n",
    "        # Newton decrement\n",
    "        lam[k] = np.sqrt( np.dot(np.linalg.solve(fpp,fp),fp) )\n",
    "        \n",
    "        if lam[k] > beta:\n",
    "            # Not centered -- use damped Newton method\n",
    "            mu[k+1] = mu[k]\n",
    "            x[k+1, :] = x[k, :] - 1/(1+lam[k]) * np.linalg.solve(fpp,fp)\n",
    "        else:\n",
    "            mu[k+1] = mu[k]/(1+delta)\n",
    "            fp = 1/mu[k+1] * c + Fp_Q(x[k, :])\n",
    "            fpp = Fpp_Q(x[k, :])\n",
    "            x[k+1, :] = x[k, :] - np.linalg.solve(fpp,fp)\n",
    "            \n",
    "    # optimal point and objective\n",
    "    xopt = x[-1,:]\n",
    "    fopt = c.T@xopt\n",
    "\n",
    "    return fopt, xopt, x, mu, lam"
   ]
  },
  {
   "cell_type": "markdown",
   "metadata": {},
   "source": [
    "## Example\n",
    "\n",
    "Consider the LP defined by\n",
    "$$\n",
    "\\begin{aligned}\n",
    "& \\underset{p(t)}{\\text{minimize}}\n",
    "& & \\int_{-1}^1 p(t) dt \\\\\n",
    "& \\text{subject to}\n",
    "& & p(t_i) \\ge t_i \\\\\n",
    "&&& t_i \\in \\{0, \\frac{1}{r}, \\dots, \\frac{r-1}{r}, 1\\}, i \\in \\{ 0, \\dots, r \\} \\\\\n",
    "\\end{aligned}\n",
    "$$\n",
    "\n",
    "where $p(t) = p_0 + p_1t^2 + p_2t^4$ and $r=50$. This can be written in the standard dual form with matrices\n",
    "\n",
    "$$\n",
    "\\begin{align}\n",
    "b^\\top &= \\begin{bmatrix}1 & \\frac{1}{3} & \\frac{1}{5}\\end{bmatrix} \\\\\n",
    "y^\\top &= \\begin{bmatrix}p_0 & p_1 & p_2\\end{bmatrix} \\\\\n",
    "c^\\top &= \\begin{bmatrix}0 & -t_1 & \\dots & -t_r\\end{bmatrix} \\\\\n",
    "A^\\top &=\n",
    "\\begin{bmatrix}\n",
    "-1 & 0 & 0 \\\\\n",
    "-1 & -t_1^2 & -t_1^4 \\\\\n",
    "\\vdots & \\vdots & \\vdots \\\\\n",
    "-1 & -t_r^2 & -t_r^4 \\\\\n",
    "\\end{bmatrix}\n",
    "\\end{align}\n",
    "$$"
   ]
  },
  {
   "cell_type": "code",
   "execution_count": 3,
   "metadata": {},
   "outputs": [],
   "source": [
    "r = 50\n",
    "\n",
    "t = np.arange(0, 1+1/r, 1/r)\n",
    "\n",
    "# build problem data\n",
    "b = np.array([1, 1/3, 1/5])\n",
    "c = -t\n",
    "A = np.array([-np.ones_like(t), -t**2, -t**4])\n",
    "\n",
    "# dimensions\n",
    "n = len(b)\n",
    "m = len(c)\n",
    "\n",
    "# polynomial eval\n",
    "p = lambda y, t: y[0] + y[1]*t**2 + y[2]*t**4\n",
    "pint = lambda y, t: y[0]*t + 1/3*y[1]*t**3 + 1/5*y[2]*t**5"
   ]
  },
  {
   "cell_type": "code",
   "execution_count": 4,
   "metadata": {},
   "outputs": [],
   "source": [
    "def F_Q(y):\n",
    "    \"\"\"Logarithmic barrier function\n",
    "    \"\"\"\n",
    "    return - np.log(c - A.T@y)\n",
    "\n",
    "def Fp_Q(y):\n",
    "    \"\"\"Gradient of F_Q\n",
    "    \"\"\"\n",
    "    d = (c - A.T@y)**(-1)\n",
    "    return A @ d\n",
    "\n",
    "def Fpp_Q(y):\n",
    "    \"\"\"Hessian of F_Q\n",
    "    \"\"\"\n",
    "    d = (c - A.T@y)**(-2)\n",
    "    return A @ np.diag(d) @ A.T"
   ]
  },
  {
   "cell_type": "code",
   "execution_count": 5,
   "metadata": {},
   "outputs": [
    {
     "name": "stdout",
     "output_type": "stream",
     "text": [
      "0.5392919861391082\n",
      "[ 0.20323845  1.32525912 -0.52849751]\n"
     ]
    }
   ],
   "source": [
    "y0 = np.ones((n,))\n",
    "\n",
    "fopt, yopt, y, mu, lam = barrier(y0, b, m, F_Q, Fp_Q, Fpp_Q, N=1000)\n",
    "\n",
    "print(fopt)\n",
    "print(yopt)"
   ]
  },
  {
   "cell_type": "code",
   "execution_count": 6,
   "metadata": {},
   "outputs": [
    {
     "data": {
      "text/plain": [
       "Text(0, 0.5, '$p(t)$')"
      ]
     },
     "execution_count": 6,
     "metadata": {},
     "output_type": "execute_result"
    },
    {
     "data": {
      "image/png": "[encoded data removed]",
      "text/plain": [
       "<Figure size 432x288 with 1 Axes>"
      ]
     },
     "metadata": {
      "needs_background": "light"
     },
     "output_type": "display_data"
    }
   ],
   "source": [
    "t = np.linspace(-1,1,1000)\n",
    "plt.plot(t,p(yopt,t))\n",
    "plt.grid()\n",
    "plt.xlabel('t')\n",
    "plt.ylabel('$p(t)$')"
   ]
  },
  {
   "cell_type": "code",
   "execution_count": 8,
   "metadata": {},
   "outputs": [
    {
     "data": {
      "text/plain": [
       "Text(0, 0.5, '$P(t)$')"
      ]
     },
     "execution_count": 8,
     "metadata": {},
     "output_type": "execute_result"
    },
    {
     "data": {
      "image/png": "[encoded data removed]",
      "text/plain": [
       "<Figure size 432x288 with 1 Axes>"
      ]
     },
     "metadata": {
      "needs_background": "light"
     },
     "output_type": "display_data"
    }
   ],
   "source": [
    "t = np.linspace(-1,1,1000)\n",
    "plt.plot(t,pint(yopt,t))\n",
    "plt.grid()\n",
    "plt.xlabel('t')\n",
    "plt.ylabel('$P(t)$')"
   ]
  },
  {
   "cell_type": "code",
   "execution_count": null,
   "metadata": {},
   "outputs": [],
   "source": []
  }
 ],
 "metadata": {
  "kernelspec": {
   "display_name": "Python 3",
   "language": "python",
   "name": "python3"
  },
  "language_info": {
   "codemirror_mode": {
    "name": "ipython",
    "version": 3
   },
   "file_extension": ".py",
   "mimetype": "text/x-python",
   "name": "python",
   "nbconvert_exporter": "python",
   "pygments_lexer": "ipython3",
   "version": "3.6.9"
  }
 },
 "nbformat": 4,
 "nbformat_minor": 4
}
